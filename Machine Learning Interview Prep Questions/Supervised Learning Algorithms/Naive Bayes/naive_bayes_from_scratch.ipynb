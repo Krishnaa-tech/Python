{
  "nbformat": 4,
  "nbformat_minor": 0,
  "metadata": {
    "colab": {
      "provenance": [],
      "authorship_tag": "ABX9TyO9rQ+parSBXUbM1P+089Ey",
      "include_colab_link": true
    },
    "kernelspec": {
      "name": "python3",
      "display_name": "Python 3"
    },
    "language_info": {
      "name": "python"
    }
  },
  "cells": [
    {
      "cell_type": "markdown",
      "metadata": {
        "id": "view-in-github",
        "colab_type": "text"
      },
      "source": [
        "<a href=\"https://colab.research.google.com/github/Tanu-N-Prabhu/Python/blob/master/Machine%20Learning%20Interview%20Prep%20Questions/Supervised%20Learning%20Algorithms/Naive%20Bayes/naive_bayes_from_scratch.ipynb\" target=\"_parent\"><img src=\"https://colab.research.google.com/assets/colab-badge.svg\" alt=\"Open In Colab\"/></a>"
      ]
    },
    {
      "cell_type": "markdown",
      "source": [
        "# Naive Bayes from Scratch (Gaussian | No Libraries)\n",
        "\n",
        "In this notebook, we’ll:\n",
        "\n",
        "- Understand how Naive Bayes works\n",
        "- Implement Gaussian Naive Bayes using NumPy\n",
        "- Classify continuous input data\n",
        "- Test the model on a small dataset\n",
        "\n",
        "\n",
        "## What is Naive Bayes?\n",
        "\n",
        "Naive Bayes is a **probabilistic classifier** based on Bayes’ Theorem:\n",
        "\n",
        "$$[\n",
        "P(y|x) = \\frac{P(x|y) \\cdot P(y)}{P(x)}\n",
        "]$$\n",
        "\n",
        "Key assumptions:\n",
        "- Features are **conditionally independent** given the class\n",
        "- For continuous features, we use the **Gaussian probability density function (PDF)**:\n",
        "\n",
        "$$[\n",
        "P(x_i|y) = \\frac{1}{\\sqrt{2\\pi\\sigma^2}} \\cdot \\exp\\left(-\\frac{(x_i - \\mu)^2}{2\\sigma^2}\\right)\n",
        "]$$\n",
        "\n",
        "\n",
        "## Imports + Dataset\n"
      ],
      "metadata": {
        "id": "gwl3__4mW9Bq"
      }
    },
    {
      "cell_type": "code",
      "source": [
        "import numpy as np\n",
        "\n",
        "# Simple 2D data (2 features), binary classification\n",
        "X_train = np.array([\n",
        "    [1.0, 2.1], [1.3, 1.8], [0.8, 2.5],\n",
        "    [6.0, 5.8], [6.2, 6.1], [5.8, 6.5]\n",
        "])\n",
        "y_train = np.array([0, 0, 0, 1, 1, 1])"
      ],
      "metadata": {
        "id": "BZDyRle9Yxxg"
      },
      "execution_count": 3,
      "outputs": []
    },
    {
      "cell_type": "markdown",
      "source": [
        "## Compute Priors, Means, and Variances"
      ],
      "metadata": {
        "id": "03hOSZXLZAqh"
      }
    },
    {
      "cell_type": "code",
      "source": [
        "classes = np.unique(y_train)\n",
        "priors = {}\n",
        "means = {}\n",
        "variances = {}\n",
        "\n",
        "for c in classes:\n",
        "    X_c = X_train[y_train == c]\n",
        "    priors[c] = len(X_c) / len(X_train)\n",
        "    means[c] = np.mean(X_c, axis=0)\n",
        "    variances[c] = np.var(X_c, axis=0) + 1e-9  # avoid zero variance"
      ],
      "metadata": {
        "id": "vJFo3DjPZBj6"
      },
      "execution_count": 4,
      "outputs": []
    },
    {
      "cell_type": "markdown",
      "source": [
        "## Gaussian Probability Density Function"
      ],
      "metadata": {
        "id": "kKw802_GZMCk"
      }
    },
    {
      "cell_type": "code",
      "source": [
        "def gaussian_pdf(x, mean, var):\n",
        "    numerator = np.exp(- (x - mean) ** 2 / (2 * var))\n",
        "    denominator = np.sqrt(2 * np.pi * var)\n",
        "    return numerator / denominator"
      ],
      "metadata": {
        "id": "MeWmU7FZZP-i"
      },
      "execution_count": 5,
      "outputs": []
    },
    {
      "cell_type": "markdown",
      "source": [
        "## Prediction Function"
      ],
      "metadata": {
        "id": "wrJ4hIqxZVQ2"
      }
    },
    {
      "cell_type": "code",
      "source": [
        "def predict(x):\n",
        "    posteriors = []\n",
        "    for c in classes:\n",
        "        prior = np.log(priors[c])\n",
        "        conditional = np.sum(np.log(gaussian_pdf(x, means[c], variances[c])))\n",
        "        posterior = prior + conditional\n",
        "        posteriors.append(posterior)\n",
        "    return classes[np.argmax(posteriors)]"
      ],
      "metadata": {
        "id": "75D0ZCtaZWEZ"
      },
      "execution_count": 6,
      "outputs": []
    },
    {
      "cell_type": "markdown",
      "source": [
        "## Test Predictions"
      ],
      "metadata": {
        "id": "hDuhxpsMZcz1"
      }
    },
    {
      "cell_type": "code",
      "source": [
        "X_test = np.array([\n",
        "    [1.1, 2.0], [6.1, 5.9]\n",
        "])\n",
        "\n",
        "for x in X_test:\n",
        "    pred = predict(x)\n",
        "    print(f\"Input: {x} → Predicted class: {pred}\")"
      ],
      "metadata": {
        "colab": {
          "base_uri": "https://localhost:8080/"
        },
        "id": "TzSCs88fZdvC",
        "outputId": "58e50f45-21bd-452f-e24e-5c15f430d350"
      },
      "execution_count": 7,
      "outputs": [
        {
          "output_type": "stream",
          "name": "stdout",
          "text": [
            "Input: [1.1 2. ] → Predicted class: 0\n",
            "Input: [6.1 5.9] → Predicted class: 1\n"
          ]
        }
      ]
    },
    {
      "cell_type": "markdown",
      "source": [
        "## Summary\n",
        "\n",
        "- Used simple functions to implement Gaussian Naive Bayes\n",
        "- Calculated priors, means, and variances manually\n",
        "- Predicted using log of Gaussian PDF\n",
        "- Easy and clean, no class or OOP code\n",
        "\n",
        "This makes Naive Bayes transparent and suitable for interviews or fast prototyping.\n"
      ],
      "metadata": {
        "id": "20fq89p9Zg6X"
      }
    }
  ]
}