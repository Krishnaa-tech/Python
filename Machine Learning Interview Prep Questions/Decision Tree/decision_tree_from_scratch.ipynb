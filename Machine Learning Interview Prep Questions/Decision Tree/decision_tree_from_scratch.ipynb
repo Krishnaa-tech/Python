{
  "nbformat": 4,
  "nbformat_minor": 0,
  "metadata": {
    "colab": {
      "provenance": [],
      "authorship_tag": "ABX9TyOwRof//rp5DVRyE0UNvOz7",
      "include_colab_link": true
    },
    "kernelspec": {
      "name": "python3",
      "display_name": "Python 3"
    },
    "language_info": {
      "name": "python"
    }
  },
  "cells": [
    {
      "cell_type": "markdown",
      "metadata": {
        "id": "view-in-github",
        "colab_type": "text"
      },
      "source": [
        "<a href=\"https://colab.research.google.com/github/Tanu-N-Prabhu/Python/blob/master/Machine%20Learning%20Interview%20Prep%20Questions/Decision%20Tree/decision_tree_from_scratch.ipynb\" target=\"_parent\"><img src=\"https://colab.research.google.com/assets/colab-badge.svg\" alt=\"Open In Colab\"/></a>"
      ]
    },
    {
      "cell_type": "markdown",
      "source": [
        "# Decision Tree from Scratch (No Libraries)\n",
        "\n",
        "In this notebook, we'll:\n",
        "\n",
        "- Understand how Decision Trees work\n",
        "- Implement a basic binary classification tree using NumPy\n",
        "- Split data using Gini Impurity\n",
        "- Train and test the tree on simple data\n",
        "\n",
        "## What Is a Decision Tree?\n",
        "\n",
        "A decision tree splits data based on feature values to predict outcomes.\n",
        "\n",
        "Each internal node splits the data based on a condition (e.g., `x < 2.5`), and each leaf node makes a final prediction (class 0 or 1).\n",
        "\n",
        "We’ll use **Gini Impurity** to decide the best split.\n",
        "\n",
        "$$[\n",
        "Gini = 1 - \\sum_{i=1}^{n} p_i^2\n",
        "]$$\n",
        "\n",
        "Where $$( p_i )$$ is the proportion of class `i` in a node.\n",
        "\n",
        "## Imports and Dataset"
      ],
      "metadata": {
        "id": "kaIxkdo_enfr"
      }
    },
    {
      "cell_type": "code",
      "source": [
        "import numpy as np\n",
        "import matplotlib.pyplot as plt\n",
        "\n",
        "# Simple binary classification dataset\n",
        "X = np.array([\n",
        "    [2.7], [1.3], [3.0], [1.0], [3.2], [4.1],\n",
        "    [1.1], [1.8], [3.5], [3.7]\n",
        "])\n",
        "y = np.array([0, 0, 1, 0, 1, 1, 0, 0, 1, 1])\n",
        "print(X)\n",
        "print(y)"
      ],
      "metadata": {
        "colab": {
          "base_uri": "https://localhost:8080/"
        },
        "id": "rheS2ESKfJe7",
        "outputId": "005143c9-947c-44aa-eb99-4216f7d42b74"
      },
      "execution_count": 1,
      "outputs": [
        {
          "output_type": "stream",
          "name": "stdout",
          "text": [
            "[[2.7]\n",
            " [1.3]\n",
            " [3. ]\n",
            " [1. ]\n",
            " [3.2]\n",
            " [4.1]\n",
            " [1.1]\n",
            " [1.8]\n",
            " [3.5]\n",
            " [3.7]]\n",
            "[0 0 1 0 1 1 0 0 1 1]\n"
          ]
        }
      ]
    },
    {
      "cell_type": "markdown",
      "source": [
        "## Gini Impurity Function"
      ],
      "metadata": {
        "id": "Ux3XlfNkf5YT"
      }
    },
    {
      "cell_type": "code",
      "source": [
        "def gini(y):\n",
        "    classes = np.unique(y)\n",
        "    impurity = 1\n",
        "    for c in classes:\n",
        "        p = np.sum(y == c) / len(y)\n",
        "        impurity -= p ** 2\n",
        "    return impurity\n"
      ],
      "metadata": {
        "id": "xGC10cHJf6s1"
      },
      "execution_count": 2,
      "outputs": []
    },
    {
      "cell_type": "markdown",
      "source": [
        "## Split Function"
      ],
      "metadata": {
        "id": "tGwnXSkTf_u2"
      }
    },
    {
      "cell_type": "code",
      "source": [
        "def split_dataset(X, y, threshold):\n",
        "    left_idx = X[:, 0] < threshold\n",
        "    right_idx = ~left_idx\n",
        "    return X[left_idx], y[left_idx], X[right_idx], y[right_idx]"
      ],
      "metadata": {
        "id": "csXiFqNFgAmR"
      },
      "execution_count": 3,
      "outputs": []
    },
    {
      "cell_type": "markdown",
      "source": [
        "## Find Best Split"
      ],
      "metadata": {
        "id": "pvCYhF9D8Unb"
      }
    },
    {
      "cell_type": "code",
      "source": [
        "def best_split(X, y):\n",
        "    best_gini = 1\n",
        "    best_threshold = None\n",
        "\n",
        "    thresholds = np.unique(X[:, 0])\n",
        "    for t in thresholds:\n",
        "        _, y_left, _, y_right = split_dataset(X, y, t)\n",
        "        if len(y_left) == 0 or len(y_right) == 0:\n",
        "            continue\n",
        "        g = (len(y_left) * gini(y_left) + len(y_right) * gini(y_right)) / len(y)\n",
        "        if g < best_gini:\n",
        "            best_gini = g\n",
        "            best_threshold = t\n",
        "\n",
        "    return best_threshold, best_gini"
      ],
      "metadata": {
        "id": "ZFGk4aD98aNO"
      },
      "execution_count": 4,
      "outputs": []
    },
    {
      "cell_type": "markdown",
      "source": [
        "## Build Tree Recursively (Depth = 1 or 2)"
      ],
      "metadata": {
        "id": "zyPNBnW68g70"
      }
    },
    {
      "cell_type": "code",
      "source": [
        "def build_tree(X, y, depth=0, max_depth=2):\n",
        "    if depth >= max_depth or len(set(y)) == 1:\n",
        "        return {'leaf': True, 'class': int(np.round(np.mean(y)))}\n",
        "\n",
        "    threshold, _ = best_split(X, y)\n",
        "    if threshold is None:\n",
        "        return {'leaf': True, 'class': int(np.round(np.mean(y)))}\n",
        "\n",
        "    X_left, y_left, X_right, y_right = split_dataset(X, y, threshold)\n",
        "\n",
        "    return {\n",
        "        'leaf': False,\n",
        "        'threshold': threshold,\n",
        "        'left': build_tree(X_left, y_left, depth + 1, max_depth),\n",
        "        'right': build_tree(X_right, y_right, depth + 1, max_depth)\n",
        "    }"
      ],
      "metadata": {
        "id": "B0WA9Nw88izr"
      },
      "execution_count": 5,
      "outputs": []
    },
    {
      "cell_type": "markdown",
      "source": [
        "## Prediction Function"
      ],
      "metadata": {
        "id": "pxzKRvvK8mJo"
      }
    },
    {
      "cell_type": "code",
      "source": [
        "def predict(tree, x):\n",
        "    if tree['leaf']:\n",
        "        return tree['class']\n",
        "    if x[0] < tree['threshold']:\n",
        "        return predict(tree['left'], x)\n",
        "    else:\n",
        "        return predict(tree['right'], x)"
      ],
      "metadata": {
        "id": "gnK5nevG8pi2"
      },
      "execution_count": 6,
      "outputs": []
    },
    {
      "cell_type": "markdown",
      "source": [
        "## Train the Tree"
      ],
      "metadata": {
        "id": "Ycf8Q-og8tJw"
      }
    },
    {
      "cell_type": "code",
      "source": [
        "tree = build_tree(X, y, max_depth=2)\n",
        "print(\"Trained Tree:\", tree)"
      ],
      "metadata": {
        "colab": {
          "base_uri": "https://localhost:8080/"
        },
        "id": "RObX4q6b8t9C",
        "outputId": "a94fb220-a14a-4a0c-d58a-c278dde52f62"
      },
      "execution_count": 7,
      "outputs": [
        {
          "output_type": "stream",
          "name": "stdout",
          "text": [
            "Trained Tree: {'leaf': False, 'threshold': np.float64(3.0), 'left': {'leaf': True, 'class': 0}, 'right': {'leaf': True, 'class': 1}}\n"
          ]
        }
      ]
    },
    {
      "cell_type": "markdown",
      "source": [
        "## Test Predictions"
      ],
      "metadata": {
        "id": "4ZcEyhPS8yoH"
      }
    },
    {
      "cell_type": "code",
      "source": [
        "X_test = np.array([[1.5], [3.8], [2.0]])\n",
        "for x in X_test:\n",
        "    print(f\"Input {x[0]} → Predicted Class: {predict(tree, x)}\")"
      ],
      "metadata": {
        "colab": {
          "base_uri": "https://localhost:8080/"
        },
        "id": "f0CoPUw58zZx",
        "outputId": "832850a5-429f-4446-a8de-afaf4d98cb56"
      },
      "execution_count": 8,
      "outputs": [
        {
          "output_type": "stream",
          "name": "stdout",
          "text": [
            "Input 1.5 → Predicted Class: 0\n",
            "Input 3.8 → Predicted Class: 1\n",
            "Input 2.0 → Predicted Class: 0\n"
          ]
        }
      ]
    },
    {
      "cell_type": "markdown",
      "source": [
        "## Summary\n",
        "\n",
        "- Built a simple binary decision tree from scratch using NumPy\n",
        "- Used Gini Impurity to choose the best splits\n",
        "- Trained recursively with limited depth\n",
        "- Can now predict class labels based on numeric features\n",
        "\n",
        "This is a simplified version of the real algorithm, good for understanding how trees make decisions.\n"
      ],
      "metadata": {
        "id": "77WFSE3R85Qr"
      }
    }
  ]
}