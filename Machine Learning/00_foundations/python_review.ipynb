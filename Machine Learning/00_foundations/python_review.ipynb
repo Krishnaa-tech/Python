{
  "nbformat": 4,
  "nbformat_minor": 0,
  "metadata": {
    "colab": {
      "provenance": [],
      "authorship_tag": "ABX9TyMT4VftSw+1tm/B0UExbPkj",
      "include_colab_link": true
    },
    "kernelspec": {
      "name": "python3",
      "display_name": "Python 3"
    },
    "language_info": {
      "name": "python"
    }
  },
  "cells": [
    {
      "cell_type": "markdown",
      "metadata": {
        "id": "view-in-github",
        "colab_type": "text"
      },
      "source": [
        "<a href=\"https://colab.research.google.com/github/Tanu-N-Prabhu/Python/blob/master/Machine%20Learning/00_foundations/python_review.ipynb\" target=\"_parent\"><img src=\"https://colab.research.google.com/assets/colab-badge.svg\" alt=\"Open In Colab\"/></a>"
      ]
    },
    {
      "cell_type": "markdown",
      "source": [
        "# Python Review for Machine Learning\n",
        "\n",
        "This notebook provides a hands-on review of essential Python concepts used in data science and machine learning.\n",
        "\n",
        "### **Python Basics**\n"
      ],
      "metadata": {
        "id": "vOnm6yYO-NMi"
      }
    },
    {
      "cell_type": "code",
      "source": [
        "# Variables and Data Types\n",
        "x = 10\n",
        "name = \"Alice\"\n",
        "pi = 3.14\n",
        "\n",
        "print(type(x), type(name), type(pi))"
      ],
      "metadata": {
        "colab": {
          "base_uri": "https://localhost:8080/"
        },
        "id": "JPN6HCHi-WNN",
        "outputId": "3847c22e-9f61-4b2d-aa1e-b80df8a1f1aa"
      },
      "execution_count": 1,
      "outputs": [
        {
          "output_type": "stream",
          "name": "stdout",
          "text": [
            "<class 'int'> <class 'str'> <class 'float'>\n"
          ]
        }
      ]
    },
    {
      "cell_type": "markdown",
      "source": [
        "### **Data Structures**\n",
        "\n",
        "\n"
      ],
      "metadata": {
        "id": "-ZuaLcsP-mqI"
      }
    },
    {
      "cell_type": "code",
      "source": [
        "# Lists, Tuples, Dictionaries\n",
        "fruits = ['apple', 'banana', 'cherry']\n",
        "coords = (10, 20)\n",
        "scores = {'math': 85, 'science': 92}\n",
        "\n",
        "print(fruits[1])\n",
        "print(coords[0])\n",
        "print(scores['science'])"
      ],
      "metadata": {
        "colab": {
          "base_uri": "https://localhost:8080/"
        },
        "id": "oVqGIMjs-z_h",
        "outputId": "f92c21e9-7fa5-4e50-b533-633d8ca64177"
      },
      "execution_count": 2,
      "outputs": [
        {
          "output_type": "stream",
          "name": "stdout",
          "text": [
            "banana\n",
            "10\n",
            "92\n"
          ]
        }
      ]
    },
    {
      "cell_type": "markdown",
      "source": [
        "### **Loops and Conditionals**\n",
        "\n"
      ],
      "metadata": {
        "id": "RsjyRsKT-2rC"
      }
    },
    {
      "cell_type": "code",
      "source": [
        "# For loop and if statement\n",
        "for fruit in fruits:\n",
        "    if fruit.startswith(\"b\"):\n",
        "        print(f\"{fruit} starts with b\")"
      ],
      "metadata": {
        "colab": {
          "base_uri": "https://localhost:8080/"
        },
        "id": "UUoyJpxi-5QP",
        "outputId": "9e104c58-2fb9-4792-aa77-0455ab1ba3e2"
      },
      "execution_count": 3,
      "outputs": [
        {
          "output_type": "stream",
          "name": "stdout",
          "text": [
            "banana starts with b\n"
          ]
        }
      ]
    },
    {
      "cell_type": "markdown",
      "source": [
        "### **Functions**"
      ],
      "metadata": {
        "id": "40UvshBw-9AI"
      }
    },
    {
      "cell_type": "code",
      "source": [
        "def square(x):\n",
        "    return x ** 2\n",
        "\n",
        "print(square(5))"
      ],
      "metadata": {
        "colab": {
          "base_uri": "https://localhost:8080/"
        },
        "id": "eAuP3_8T-_Vw",
        "outputId": "8e7ec7b6-3417-4573-daa7-d434a704c2cb"
      },
      "execution_count": 4,
      "outputs": [
        {
          "output_type": "stream",
          "name": "stdout",
          "text": [
            "25\n"
          ]
        }
      ]
    },
    {
      "cell_type": "markdown",
      "source": [
        "### **List Comprehensions**"
      ],
      "metadata": {
        "id": "UmmW--fd_DIN"
      }
    },
    {
      "cell_type": "code",
      "source": [
        "squares = [x**2 for x in range(5)]\n",
        "print(squares)"
      ],
      "metadata": {
        "colab": {
          "base_uri": "https://localhost:8080/"
        },
        "id": "opv0t6eY_BcL",
        "outputId": "cbe46c50-8102-4a8e-8174-24a920b63b32"
      },
      "execution_count": 5,
      "outputs": [
        {
          "output_type": "stream",
          "name": "stdout",
          "text": [
            "[0, 1, 4, 9, 16]\n"
          ]
        }
      ]
    },
    {
      "cell_type": "markdown",
      "source": [
        "### **Working with Numpy**"
      ],
      "metadata": {
        "id": "whPE-3Bw_hCv"
      }
    },
    {
      "cell_type": "code",
      "source": [
        "import numpy as np\n",
        "\n",
        "a = np.array([1, 2, 3])\n",
        "print(\"Mean:\", np.mean(a))"
      ],
      "metadata": {
        "colab": {
          "base_uri": "https://localhost:8080/"
        },
        "id": "QXSPoEGS_kCF",
        "outputId": "5c1638f4-e9d4-4462-e1d2-eb2b5a9b06fb"
      },
      "execution_count": 6,
      "outputs": [
        {
          "output_type": "stream",
          "name": "stdout",
          "text": [
            "Mean: 2.0\n"
          ]
        }
      ]
    },
    {
      "cell_type": "markdown",
      "source": [
        "### **Working with Pandas**"
      ],
      "metadata": {
        "id": "cJxWqZtw_mB8"
      }
    },
    {
      "cell_type": "code",
      "source": [
        "import pandas as pd\n",
        "\n",
        "data = {'name': ['Alice', 'Bob'], 'age': [25, 30]}\n",
        "df = pd.DataFrame(data)\n",
        "\n",
        "print(df.head())"
      ],
      "metadata": {
        "colab": {
          "base_uri": "https://localhost:8080/"
        },
        "id": "NdsWe7WZ_ooe",
        "outputId": "711d0484-e3c6-42f5-d827-58d8d7c0ce5b"
      },
      "execution_count": 7,
      "outputs": [
        {
          "output_type": "stream",
          "name": "stdout",
          "text": [
            "    name  age\n",
            "0  Alice   25\n",
            "1    Bob   30\n"
          ]
        }
      ]
    },
    {
      "cell_type": "markdown",
      "source": [
        "### **Plotting with Matplotlib**"
      ],
      "metadata": {
        "id": "CsaG8aNJ_sQg"
      }
    },
    {
      "cell_type": "code",
      "source": [
        "import matplotlib.pyplot as plt\n",
        "\n",
        "x = [1, 2, 3, 4]\n",
        "y = [10, 15, 13, 17]\n",
        "\n",
        "plt.plot(x, y)\n",
        "plt.xlabel(\"X-axis\")\n",
        "plt.ylabel(\"Y-axis\")\n",
        "plt.title(\"Simple Line Plot\")\n",
        "plt.show()"
      ],
      "metadata": {
        "colab": {
          "base_uri": "https://localhost:8080/",
          "height": 472
        },
        "id": "xhBXW8t-_uFE",
        "outputId": "0deda66d-75f7-4527-b8ed-386825b7e0c4"
      },
      "execution_count": 8,
      "outputs": [
        {
          "output_type": "display_data",
          "data": {
            "text/plain": [
              "<Figure size 640x480 with 1 Axes>"
            ],
            "image/png": "[encoded data removed]"
          },
          "metadata": {}
        }
      ]
    },
    {
      "cell_type": "markdown",
      "source": [
        "### **You’ve completed the Python review!**\n",
        "**Next**: Move to `linear_algebra.ipynb` to build your math foundation for ML.\n"
      ],
      "metadata": {
        "id": "dBiBeA1L_xs0"
      }
    }
  ]
}