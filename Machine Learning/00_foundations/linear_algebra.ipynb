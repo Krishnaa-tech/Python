{
  "nbformat": 4,
  "nbformat_minor": 0,
  "metadata": {
    "colab": {
      "provenance": [],
      "authorship_tag": "ABX9TyMbb0pTYI4dx5j02Wi6u5h3",
      "include_colab_link": true
    },
    "kernelspec": {
      "name": "python3",
      "display_name": "Python 3"
    },
    "language_info": {
      "name": "python"
    }
  },
  "cells": [
    {
      "cell_type": "markdown",
      "metadata": {
        "id": "view-in-github",
        "colab_type": "text"
      },
      "source": [
        "<a href=\"https://colab.research.google.com/github/Tanu-N-Prabhu/Python/blob/master/Machine%20Learning/00_foundations/linear_algebra.ipynb\" target=\"_parent\"><img src=\"https://colab.research.google.com/assets/colab-badge.svg\" alt=\"Open In Colab\"/></a>"
      ]
    },
    {
      "cell_type": "markdown",
      "source": [
        "# Linear Algebra for Machine Learning\n",
        "\n",
        "Linear Algebra is the foundation of many ML algorithms. This notebook walks through core concepts like vectors, matrices, and operations using NumPy, with visual and practical examples.\n",
        "\n",
        "### **Import Libraries**"
      ],
      "metadata": {
        "id": "TpL39I2jCJmg"
      }
    },
    {
      "cell_type": "code",
      "source": [
        "import numpy as np\n",
        "import matplotlib.pyplot as plt"
      ],
      "metadata": {
        "id": "syrRxHviCQIH"
      },
      "execution_count": 1,
      "outputs": []
    },
    {
      "cell_type": "markdown",
      "source": [
        "### **Scalars, Vectors, Matrices**"
      ],
      "metadata": {
        "id": "cxA9YF0SCS9a"
      }
    },
    {
      "cell_type": "code",
      "source": [
        "# Scalar\n",
        "a = 5\n",
        "\n",
        "# Vector\n",
        "v = np.array([1, 2, 3])\n",
        "\n",
        "# Matrix\n",
        "M = np.array([[1, 2], [3, 4]])\n",
        "\n",
        "print(\"Scalar:\", a)\n",
        "print(\"Vector:\", v)\n",
        "print(\"Matrix:\\n\", M)"
      ],
      "metadata": {
        "colab": {
          "base_uri": "https://localhost:8080/"
        },
        "id": "a30PGu0fCUja",
        "outputId": "c50afd10-4c8b-40cf-ceff-e3cd3d871207"
      },
      "execution_count": 2,
      "outputs": [
        {
          "output_type": "stream",
          "name": "stdout",
          "text": [
            "Scalar: 5\n",
            "Vector: [1 2 3]\n",
            "Matrix:\n",
            " [[1 2]\n",
            " [3 4]]\n"
          ]
        }
      ]
    },
    {
      "cell_type": "markdown",
      "source": [
        "### **Vector Operations**"
      ],
      "metadata": {
        "id": "TnpRkIeHCXee"
      }
    },
    {
      "cell_type": "code",
      "source": [
        "# Addition, Scalar Multiplication, Dot Product\n",
        "v1 = np.array([1, 2])\n",
        "v2 = np.array([3, 4])\n",
        "\n",
        "print(\"Addition:\", v1 + v2)\n",
        "print(\"Scalar Multiply:\", 2 * v1)\n",
        "print(\"Dot Product:\", np.dot(v1, v2))"
      ],
      "metadata": {
        "colab": {
          "base_uri": "https://localhost:8080/"
        },
        "id": "sAyfi21fCY5y",
        "outputId": "6a76d92c-0fc9-4260-fe28-67e1621ab6db"
      },
      "execution_count": 3,
      "outputs": [
        {
          "output_type": "stream",
          "name": "stdout",
          "text": [
            "Addition: [4 6]\n",
            "Scalar Multiply: [2 4]\n",
            "Dot Product: 11\n"
          ]
        }
      ]
    },
    {
      "cell_type": "markdown",
      "source": [
        "### **Matrix Operations**\n"
      ],
      "metadata": {
        "id": "5McvuqEYCbWo"
      }
    },
    {
      "cell_type": "code",
      "source": [
        "A = np.array([[1, 2], [3, 4]])\n",
        "B = np.array([[2, 0], [1, 2]])\n",
        "\n",
        "print(\"Matrix Addition:\\n\", A + B)\n",
        "print(\"Matrix Multiplication:\\n\", A @ B)\n",
        "print(\"Transpose:\\n\", A.T)"
      ],
      "metadata": {
        "colab": {
          "base_uri": "https://localhost:8080/"
        },
        "id": "szz3lTOwCeei",
        "outputId": "499f75b5-abe4-434e-e3d1-a392255b5517"
      },
      "execution_count": 4,
      "outputs": [
        {
          "output_type": "stream",
          "name": "stdout",
          "text": [
            "Matrix Addition:\n",
            " [[3 2]\n",
            " [4 6]]\n",
            "Matrix Multiplication:\n",
            " [[ 4  4]\n",
            " [10  8]]\n",
            "Transpose:\n",
            " [[1 3]\n",
            " [2 4]]\n"
          ]
        }
      ]
    },
    {
      "cell_type": "markdown",
      "source": [
        "### **Identity Matrix & Inverse**"
      ],
      "metadata": {
        "id": "Y44apVfnChFk"
      }
    },
    {
      "cell_type": "code",
      "source": [
        "I = np.eye(2)\n",
        "print(\"Identity Matrix:\\n\", I)\n",
        "\n",
        "A_inv = np.linalg.inv(A)\n",
        "print(\"Inverse of A:\\n\", A_inv)\n",
        "\n",
        "print(\"A * A_inv:\\n\", A @ A_inv)  # Should return Identity"
      ],
      "metadata": {
        "colab": {
          "base_uri": "https://localhost:8080/"
        },
        "id": "IS0Xz7NQCih4",
        "outputId": "7f99f758-ace1-4b72-b54d-6b5ff6dd0bd2"
      },
      "execution_count": 5,
      "outputs": [
        {
          "output_type": "stream",
          "name": "stdout",
          "text": [
            "Identity Matrix:\n",
            " [[1. 0.]\n",
            " [0. 1.]]\n",
            "Inverse of A:\n",
            " [[-2.   1. ]\n",
            " [ 1.5 -0.5]]\n",
            "A * A_inv:\n",
            " [[1.0000000e+00 0.0000000e+00]\n",
            " [8.8817842e-16 1.0000000e+00]]\n"
          ]
        }
      ]
    },
    {
      "cell_type": "markdown",
      "source": [
        "### **Determinant and Rank**"
      ],
      "metadata": {
        "id": "akc2YwY9Cmic"
      }
    },
    {
      "cell_type": "code",
      "source": [
        "det_A = np.linalg.det(A)\n",
        "rank_A = np.linalg.matrix_rank(A)\n",
        "\n",
        "print(\"Determinant of A:\", det_A)\n",
        "print(\"Rank of A:\", rank_A)"
      ],
      "metadata": {
        "colab": {
          "base_uri": "https://localhost:8080/"
        },
        "id": "3RzbanjBCn1-",
        "outputId": "efe44686-c1e8-47cd-c58b-444740fe9bac"
      },
      "execution_count": 6,
      "outputs": [
        {
          "output_type": "stream",
          "name": "stdout",
          "text": [
            "Determinant of A: -2.0000000000000004\n",
            "Rank of A: 2\n"
          ]
        }
      ]
    },
    {
      "cell_type": "markdown",
      "source": [
        "### **Eigenvalues and Eigenvectors**"
      ],
      "metadata": {
        "id": "I9CDao3JCrHk"
      }
    },
    {
      "cell_type": "code",
      "source": [
        "e_vals, e_vecs = np.linalg.eig(A)\n",
        "print(\"Eigenvalues:\\n\", e_vals)\n",
        "print(\"Eigenvectors:\\n\", e_vecs)"
      ],
      "metadata": {
        "colab": {
          "base_uri": "https://localhost:8080/"
        },
        "id": "i_uk0dMvCsvy",
        "outputId": "bf69146e-743c-47b5-a5db-5cb8c131aa3d"
      },
      "execution_count": 7,
      "outputs": [
        {
          "output_type": "stream",
          "name": "stdout",
          "text": [
            "Eigenvalues:\n",
            " [-0.37228132  5.37228132]\n",
            "Eigenvectors:\n",
            " [[-0.82456484 -0.41597356]\n",
            " [ 0.56576746 -0.90937671]]\n"
          ]
        }
      ]
    },
    {
      "cell_type": "markdown",
      "source": [
        "### **Application: Linear Transformation Visualization**"
      ],
      "metadata": {
        "id": "6g6SNo32CvMa"
      }
    },
    {
      "cell_type": "code",
      "source": [
        "# Visualize how a matrix transforms a vector\n",
        "v = np.array([[2], [1]])\n",
        "T = np.array([[2, 0], [0, 1]])\n",
        "\n",
        "transformed_v = T @ v\n",
        "\n",
        "plt.quiver(0, 0, v[0], v[1], angles='xy', scale_units='xy', scale=1, color='blue', label='Original')\n",
        "plt.quiver(0, 0, transformed_v[0], transformed_v[1], angles='xy', scale_units='xy', scale=1, color='red', label='Transformed')\n",
        "plt.xlim(-1, 5)\n",
        "plt.ylim(-1, 5)\n",
        "plt.grid()\n",
        "plt.legend()\n",
        "plt.title(\"Linear Transformation\")\n",
        "plt.show()"
      ],
      "metadata": {
        "colab": {
          "base_uri": "https://localhost:8080/",
          "height": 452
        },
        "id": "YedTzmpcCwUT",
        "outputId": "3f02efc8-192a-47e1-a60d-4c1f7055ecad"
      },
      "execution_count": 8,
      "outputs": [
        {
          "output_type": "display_data",
          "data": {
            "text/plain": [
              "<Figure size 640x480 with 1 Axes>"
            ],
            "image/png": "[encoded data removed]"
          },
          "metadata": {}
        }
      ]
    },
    {
      "cell_type": "markdown",
      "source": [
        "### **Summary**\n",
        "- You learned the basics of linear algebra relevant to ML: vectors, matrices, dot products, eigenvalues, and more.\n",
        "- In ML, concepts like PCA, linear regression, and neural networks heavily rely on linear algebra.\n",
        "\n",
        "**Next up**: `statistics.ipynb` to cover the statistical tools needed in ML."
      ],
      "metadata": {
        "id": "CQYLhVIXCz-m"
      }
    }
  ]
}