{
  "nbformat": 4,
  "nbformat_minor": 0,
  "metadata": {
    "colab": {
      "provenance": [],
      "authorship_tag": "ABX9TyMRt4zOJYTIbSwrQpbZnEeN",
      "include_colab_link": true
    },
    "kernelspec": {
      "name": "python3",
      "display_name": "Python 3"
    },
    "language_info": {
      "name": "python"
    }
  },
  "cells": [
    {
      "cell_type": "markdown",
      "metadata": {
        "id": "view-in-github",
        "colab_type": "text"
      },
      "source": [
        "<a href=\"https://colab.research.google.com/github/Tanu-N-Prabhu/Python/blob/master/Machine%20Learning/01_supervised_learning/classification.ipynb\" target=\"_parent\"><img src=\"https://colab.research.google.com/assets/colab-badge.svg\" alt=\"Open In Colab\"/></a>"
      ]
    },
    {
      "cell_type": "markdown",
      "source": [
        "# Classification in Machine Learning\n",
        "\n",
        "Classification is a type of supervised learning used to predict discrete (categorical) labels or classes.\n",
        "\n",
        "In this notebook, we will:\n",
        "- Understand what classification is\n",
        "- Explore common algorithms\n",
        "- Build a logistic regression model using scikit-learn\n",
        "- Evaluate model performance using accuracy, confusion matrix, precision, recall, and F1-score\n",
        "\n",
        "\n",
        "### **Import Required Libraries**\n"
      ],
      "metadata": {
        "id": "ZBbcesKRxqD2"
      }
    },
    {
      "cell_type": "code",
      "source": [
        "import numpy as np\n",
        "import pandas as pd\n",
        "import matplotlib.pyplot as plt\n",
        "import seaborn as sns\n",
        "\n",
        "from sklearn.datasets import load_breast_cancer\n",
        "from sklearn.model_selection import train_test_split\n",
        "from sklearn.linear_model import LogisticRegression\n",
        "from sklearn.metrics import (\n",
        "    accuracy_score,\n",
        "    confusion_matrix,\n",
        "    classification_report,\n",
        "    ConfusionMatrixDisplay\n",
        ")\n",
        "\n",
        "sns.set(style=\"whitegrid\")"
      ],
      "metadata": {
        "id": "x9pWVu2_xza7"
      },
      "execution_count": 1,
      "outputs": []
    },
    {
      "cell_type": "markdown",
      "source": [
        "### **Load Dataset**"
      ],
      "metadata": {
        "id": "U8xJxKWMx2qQ"
      }
    },
    {
      "cell_type": "code",
      "source": [
        "# Load breast cancer dataset from scikit-learn\n",
        "data = load_breast_cancer()\n",
        "X = pd.DataFrame(data.data, columns=data.feature_names)\n",
        "y = pd.Series(data.target)\n",
        "\n",
        "print(\"Target names:\", data.target_names)\n",
        "print(\"Feature shape:\", X.shape)\n",
        "print(\"Target distribution:\\n\", y.value_counts())"
      ],
      "metadata": {
        "colab": {
          "base_uri": "https://localhost:8080/"
        },
        "id": "PsixErkmx32q",
        "outputId": "af273204-2b01-4e3f-9373-cc7573956a69"
      },
      "execution_count": 2,
      "outputs": [
        {
          "output_type": "stream",
          "name": "stdout",
          "text": [
            "Target names: ['malignant' 'benign']\n",
            "Feature shape: (569, 30)\n",
            "Target distribution:\n",
            " 1    357\n",
            "0    212\n",
            "Name: count, dtype: int64\n"
          ]
        }
      ]
    },
    {
      "cell_type": "markdown",
      "source": [
        "### **Visualize Class Distribution**"
      ],
      "metadata": {
        "id": "vxLvJja6x8dw"
      }
    },
    {
      "cell_type": "code",
      "source": [
        "sns.countplot(x=y.map({0: \"Malignant\", 1: \"Benign\"}))\n",
        "plt.title(\"Target Class Distribution\")\n",
        "plt.show()"
      ],
      "metadata": {
        "colab": {
          "base_uri": "https://localhost:8080/",
          "height": 480
        },
        "id": "pBD0_v1Kx9lT",
        "outputId": "266cdde1-2afd-438b-c4cc-fc409cb721ae"
      },
      "execution_count": 3,
      "outputs": [
        {
          "output_type": "display_data",
          "data": {
            "text/plain": [
              "<Figure size 640x480 with 1 Axes>"
            ],
            "image/png": "[encoded data removed]"
          },
          "metadata": {}
        }
      ]
    },
    {
      "cell_type": "markdown",
      "source": [
        "### **Train-Test Split**"
      ],
      "metadata": {
        "id": "Dcq1Ybr1yBen"
      }
    },
    {
      "cell_type": "code",
      "source": [
        "X_train, X_test, y_train, y_test = train_test_split(\n",
        "    X, y, test_size=0.2, stratify=y, random_state=42\n",
        ")"
      ],
      "metadata": {
        "id": "RM9RU-HKyCif"
      },
      "execution_count": 4,
      "outputs": []
    },
    {
      "cell_type": "markdown",
      "source": [
        "### **Train a Logistic Regression Model**"
      ],
      "metadata": {
        "id": "pYw9-ofFyFpF"
      }
    },
    {
      "cell_type": "code",
      "source": [
        "model = LogisticRegression(max_iter=10000)\n",
        "model.fit(X_train, y_train)\n",
        "\n",
        "y_pred = model.predict(X_test)"
      ],
      "metadata": {
        "id": "4-qtf6J9yHEI"
      },
      "execution_count": 5,
      "outputs": []
    },
    {
      "cell_type": "markdown",
      "source": [
        "### **Evaluate the Model**"
      ],
      "metadata": {
        "id": "9rNV3R2YyJ9p"
      }
    },
    {
      "cell_type": "code",
      "source": [
        "accuracy = accuracy_score(y_test, y_pred)\n",
        "print(\"Accuracy:\", accuracy)\n",
        "\n",
        "# Confusion Matrix\n",
        "cm = confusion_matrix(y_test, y_pred)\n",
        "ConfusionMatrixDisplay(cm, display_labels=data.target_names).plot()\n",
        "plt.title(\"Confusion Matrix\")\n",
        "plt.show()\n",
        "\n",
        "# Classification Report\n",
        "print(classification_report(y_test, y_pred, target_names=data.target_names))"
      ],
      "metadata": {
        "colab": {
          "base_uri": "https://localhost:8080/",
          "height": 654
        },
        "id": "FTa2u6j-yK9o",
        "outputId": "14048623-76f5-49a3-ae99-6e5271ff37b0"
      },
      "execution_count": 6,
      "outputs": [
        {
          "output_type": "stream",
          "name": "stdout",
          "text": [
            "Accuracy: 0.9649122807017544\n"
          ]
        },
        {
          "output_type": "display_data",
          "data": {
            "text/plain": [
              "<Figure size 640x480 with 2 Axes>"
            ],
            "image/png": "[encoded data removed]"
          },
          "metadata": {}
        },
        {
          "output_type": "stream",
          "name": "stdout",
          "text": [
            "              precision    recall  f1-score   support\n",
            "\n",
            "   malignant       0.97      0.93      0.95        42\n",
            "      benign       0.96      0.99      0.97        72\n",
            "\n",
            "    accuracy                           0.96       114\n",
            "   macro avg       0.97      0.96      0.96       114\n",
            "weighted avg       0.97      0.96      0.96       114\n",
            "\n"
          ]
        }
      ]
    },
    {
      "cell_type": "markdown",
      "source": [
        "### **What Is a Confusion Matrix?**\n",
        "\n",
        "A confusion matrix shows the number of correct and incorrect predictions broken down by each class.\n",
        "\n",
        "- True Positives (TP): Correctly predicted positive cases\n",
        "- True Negatives (TN): Correctly predicted negative cases\n",
        "- False Positives (FP): Incorrectly predicted as positive\n",
        "- False Negatives (FN): Incorrectly predicted as negative\n",
        "\n",
        "These values help compute:\n",
        "- Precision = TP / (TP + FP)\n",
        "- Recall = TP / (TP + FN)\n",
        "- F1-score = 2 * (Precision * Recall) / (Precision + Recall)\n",
        "\n",
        "\n",
        "### **Types of Classification Algorithms**\n",
        "\n",
        "### Common Classification Algorithms:\n",
        "1. Logistic Regression (used above)\n",
        "2. k-Nearest Neighbors (KNN)\n",
        "3. Decision Trees\n",
        "4. Random Forests\n",
        "5. Support Vector Machines (SVM)\n",
        "6. Naive Bayes\n",
        "7. Neural Networks (for deep classification tasks)\n",
        "\n",
        "\n",
        "### **Summary**\n",
        "- We learned what classification is and why it's used.\n",
        "- We used logistic regression to classify breast cancer data.\n",
        "- We evaluated the model using accuracy, precision, recall, and F1-score.\n",
        "\n",
        "**Next:** Try `model_evaluation.ipynb` to explore advanced evaluation techniques like ROC curves, cross-validation, and AUC.\n"
      ],
      "metadata": {
        "id": "MURpFByiyOWV"
      }
    }
  ]
}